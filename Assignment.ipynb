{
  "metadata": {
    "kernelspec": {
      "name": "python",
      "display_name": "Python (Pyodide)",
      "language": "python"
    },
    "language_info": {
      "codemirror_mode": {
        "name": "python",
        "version": 3
      },
      "file_extension": ".py",
      "mimetype": "text/x-python",
      "name": "python",
      "nbconvert_exporter": "python",
      "pygments_lexer": "ipython3",
      "version": "3.8"
    }
  },
  "nbformat_minor": 5,
  "nbformat": 4,
  "cells": [
    {
      "id": "382a6a53-41b6-4744-bb32-72804422adad",
      "cell_type": "markdown",
      "source": "# Data Science Tools and Ecosystem",
      "metadata": {}
    },
    {
      "id": "7d93b670-94df-4848-b522-bee2843a2302",
      "cell_type": "markdown",
      "source": "## Introduction\nThis notebook provides an overview of the various tools, libraries, and languages used in the field of Data Science. It also includes some basic arithmetic expressions and code demonstrations.",
      "metadata": {}
    },
    {
      "id": "6a178e8b-b8e1-40e2-87bd-ca874f3f57ae",
      "cell_type": "markdown",
      "source": "## Data Science Languages\nSome of the commonly used languages for Data Science include:\n- Python\n- R\n- SQL\n- Julia\n- Scala\n",
      "metadata": {}
    },
    {
      "id": "8cc4a537-a37b-4a9d-8e31-f111a41ea4b1",
      "cell_type": "markdown",
      "source": "## Data Science Libraries\nPopular libraries used in Data Science include:\n- Pandas\n- NumPy\n- Matplotlib\n- Seaborn\n- Scikit-learn\n- TensorFlow\n- PyTorch\n",
      "metadata": {}
    },
    {
      "id": "eb4a3b31-ec19-4bf7-ad34-41277d106552",
      "cell_type": "markdown",
      "source": "## Data Science Tools\n\n| Tool Name        | Description |\n|------------------|-------------|\n| Jupyter Notebook | Interactive notebook for coding and visualization |\n| RStudio          | IDE for R programming language |\n| Apache Spark     | Big data processing framework |\n| TensorFlow       | Open-source ML framework |\n| Tableau          | Data visualization tool |\n",
      "metadata": {}
    },
    {
      "id": "984d20f7-8c3b-49ed-a2d0-db5b48b9deae",
      "cell_type": "markdown",
      "source": "## Arithmetic Expression Examples\nBelow are some examples of arithmetic expressions, including multiplication and addition.",
      "metadata": {}
    },
    {
      "id": "af6241ce-3180-428f-92d1-90428975832f",
      "cell_type": "code",
      "source": "# This is a simple arithmetic expression to multiply and add numbers\n(3 * 4) + 5\n",
      "metadata": {
        "trusted": true
      },
      "outputs": [
        {
          "execution_count": 1,
          "output_type": "execute_result",
          "data": {
            "text/plain": "17"
          },
          "metadata": {}
        }
      ],
      "execution_count": 1
    },
    {
      "id": "f6814743-0210-47b1-bb6b-571b812699eb",
      "cell_type": "code",
      "source": "# Convert 200 minutes into hours\nminutes = 200\nhours = minutes / 60\nhours\n",
      "metadata": {
        "trusted": true
      },
      "outputs": [
        {
          "execution_count": 2,
          "output_type": "execute_result",
          "data": {
            "text/plain": "3.3333333333333335"
          },
          "metadata": {}
        }
      ],
      "execution_count": 2
    },
    {
      "id": "5a778a41-6332-48fb-b2e5-056bd0e938b5",
      "cell_type": "markdown",
      "source": "## Objectives\n- List popular languages used in Data Science.\n- Identify common libraries used in Data Science.\n- Present a table of various Data Science tools.\n- Perform basic arithmetic operations using Python.\n- Convert minutes into hours using Python.\n",
      "metadata": {}
    },
    {
      "id": "49b9e71d-7eda-45aa-8013-f0fbf1c2e186",
      "cell_type": "markdown",
      "source": "## Author\nXhorxhi Helmi\n",
      "metadata": {}
    },
    {
      "id": "eac55224-3b57-4c74-ac58-01f5d2e8aabc",
      "cell_type": "code",
      "source": "",
      "metadata": {
        "trusted": true
      },
      "outputs": [],
      "execution_count": null
    }
  ]
}